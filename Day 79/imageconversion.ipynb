{
 "cells": [
  {
   "cell_type": "code",
   "execution_count": 3,
   "metadata": {},
   "outputs": [],
   "source": [
    "# %pip install opencv-python scikit-learn"
   ]
  },
  {
   "cell_type": "code",
   "execution_count": 23,
   "metadata": {},
   "outputs": [],
   "source": [
    "import numpy as np\n",
    "import pandas as pd\n",
    "import cv2"
   ]
  },
  {
   "cell_type": "code",
   "execution_count": 24,
   "metadata": {},
   "outputs": [],
   "source": [
    "image = cv2.imread(\"uploads/2ebf110ff978d4ed5e3020606f3b1b1a.jpg\")\n",
    "# image = cv2.cvtColor(image)"
   ]
  },
  {
   "cell_type": "code",
   "execution_count": 25,
   "metadata": {},
   "outputs": [],
   "source": [
    "def preprocess(raw):\n",
    "    image = cv2.resize(raw, (900, 600), interpolation = cv2.INTER_AREA)\n",
    "    image = image.reshape(image.shape[0]*image.shape[1], 3)\n",
    "    return image"
   ]
  },
  {
   "cell_type": "code",
   "execution_count": 26,
   "metadata": {},
   "outputs": [],
   "source": [
    "def converter(a):\n",
    "    r, g, b = a\n",
    "\n",
    "    return ('{:X}{:X}{:X}').format(r, g, b)"
   ]
  },
  {
   "cell_type": "code",
   "execution_count": 27,
   "metadata": {},
   "outputs": [],
   "source": [
    "colorList = []"
   ]
  },
  {
   "cell_type": "code",
   "execution_count": 28,
   "metadata": {},
   "outputs": [
    {
     "name": "stdout",
     "output_type": "stream",
     "text": [
      "(540000, 3)\n"
     ]
    }
   ],
   "source": [
    "modImage = preprocess(image)\n",
    "print(modImage.shape)\n",
    "for test in modImage:\n",
    "    colorList.append(converter((test[0], test[1], test[2])))"
   ]
  },
  {
   "cell_type": "code",
   "execution_count": 40,
   "metadata": {},
   "outputs": [],
   "source": [
    "df = pd.DataFrame({'colorcode': colorList})\n",
    "\n",
    "counts = df['colorcode'].value_counts()\n",
    "\n",
    "countdict = counts.to_dict()"
   ]
  },
  {
   "cell_type": "code",
   "execution_count": 45,
   "metadata": {},
   "outputs": [],
   "source": [
    "topColors = []"
   ]
  },
  {
   "cell_type": "code",
   "execution_count": 46,
   "metadata": {},
   "outputs": [],
   "source": [
    "for index, count in enumerate(countdict):\n",
    "    topColors.append(count)\n",
    "    if index > 20:\n",
    "        break"
   ]
  },
  {
   "cell_type": "code",
   "execution_count": 47,
   "metadata": {},
   "outputs": [
    {
     "data": {
      "text/plain": [
       "['6ED',\n",
       " '5DC',\n",
       " '4FD',\n",
       " '7FE',\n",
       " '510E',\n",
       " '611F',\n",
       " '71210',\n",
       " '3EC',\n",
       " '4CB',\n",
       " '810F',\n",
       " '91110',\n",
       " '710D',\n",
       " '91614',\n",
       " '81311',\n",
       " '71412',\n",
       " '6FC',\n",
       " '81513',\n",
       " '5EB',\n",
       " '91412',\n",
       " '3BA',\n",
       " '61311',\n",
       " 'A1211']"
      ]
     },
     "execution_count": 47,
     "metadata": {},
     "output_type": "execute_result"
    }
   ],
   "source": []
  }
 ],
 "metadata": {
  "interpreter": {
   "hash": "e7370f93d1d0cde622a1f8e1c04877d8463912d04d973331ad4851f04de6915a"
  },
  "kernelspec": {
   "display_name": "Python 3.10.2 64-bit",
   "language": "python",
   "name": "python3"
  },
  "language_info": {
   "codemirror_mode": {
    "name": "ipython",
    "version": 3
   },
   "file_extension": ".py",
   "mimetype": "text/x-python",
   "name": "python",
   "nbconvert_exporter": "python",
   "pygments_lexer": "ipython3",
   "version": "3.10.2"
  },
  "orig_nbformat": 4
 },
 "nbformat": 4,
 "nbformat_minor": 2
}
